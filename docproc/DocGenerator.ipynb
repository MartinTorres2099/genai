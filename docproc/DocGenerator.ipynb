{
 "cells": [
  {
   "cell_type": "markdown",
   "id": "040f806e-73fd-466a-bd7c-c881bdab1359",
   "metadata": {},
   "source": [
    "### Python Script for Generating Sample Data"
   ]
  },
  {
   "cell_type": "code",
   "execution_count": 1,
   "id": "5dcf593d-bf25-4aca-a707-d0fed2421554",
   "metadata": {
    "tags": []
   },
   "outputs": [],
   "source": [
    "#import packages\n",
    "from faker import Faker\n",
    "from reportlab.lib.pagesizes import letter\n",
    "from reportlab.platypus import SimpleDocTemplate, Table, TableStyle\n",
    "from reportlab.lib import colors\n",
    "import re\n",
    "\n",
    "#helper function\n",
    "def generate_arrest_report(index):\n",
    "    fake = Faker()\n",
    "    \n",
    "    pdf_directory = \"./reports/arrest_reports/\"\n",
    "    pdf_filename = f\"{pdf_directory}arrest_report_{index}.pdf\"\n",
    "    doc = SimpleDocTemplate(pdf_filename, pagesize=letter)\n",
    "\n",
    "    incident_description = fake.paragraph(nb_sentences=3)\n",
    "    incident_description = ' '.join(re.findall(r'\\w+', incident_description))  # Remove punctuation\n",
    "\n",
    "    # Truncate incident description to maximum 20 words\n",
    "    words = incident_description.split()\n",
    "    truncated_description = ' '.join(words[:20])\n",
    "\n",
    "    data = [\n",
    "        [\"Suspect Name:\", fake.name()],\n",
    "        [\"Arresting Officer:\", fake.name()],\n",
    "        [\"Date of Arrest:\", fake.date_time_this_decade()],\n",
    "        [\"Location of Arrest:\", fake.address()],\n",
    "        [\"Incident Description:\", truncated_description]\n",
    "    ]\n",
    "\n",
    "    # Define table style\n",
    "    table_style = TableStyle([\n",
    "        (\"BACKGROUND\", (0, 0), (-1, 0), colors.lightgrey),\n",
    "        (\"TEXTCOLOR\", (0, 0), (-1, 0), colors.black),\n",
    "        (\"ALIGN\", (0, 0), (-1, 0), \"CENTER\"),\n",
    "        (\"FONTNAME\", (0, 0), (-1, 0), \"Helvetica-Bold\"),\n",
    "        (\"FONTSIZE\", (0, 0), (-1, 0), 12),\n",
    "        (\"BOTTOMPADDING\", (0, 0), (-1, 0), 12),\n",
    "        (\"BACKGROUND\", (0, 1), (-1, -1), colors.white),\n",
    "        (\"BOX\", (0, 0), (-1, -1), 1, colors.black),\n",
    "        (\"GRID\", (0, 0), (-1, -1), 1, colors.black),\n",
    "    ])\n",
    "\n",
    "    table = Table(data)\n",
    "    table.setStyle(table_style)\n",
    "\n",
    "    # Build the document\n",
    "    elements = [table]\n",
    "    doc.build(elements)\n",
    "\n",
    "# Generate 10 arrest reports\n",
    "for i in range(1, 11):\n",
    "    generate_arrest_report(i)"
   ]
  },
  {
   "cell_type": "code",
   "execution_count": null,
   "id": "c3c6c99b-5bb9-4168-8395-13834b440680",
   "metadata": {},
   "outputs": [],
   "source": []
  }
 ],
 "metadata": {
  "kernelspec": {
   "display_name": "Python 3 (ipykernel)",
   "language": "python",
   "name": "python3"
  },
  "language_info": {
   "codemirror_mode": {
    "name": "ipython",
    "version": 3
   },
   "file_extension": ".py",
   "mimetype": "text/x-python",
   "name": "python",
   "nbconvert_exporter": "python",
   "pygments_lexer": "ipython3",
   "version": "3.10.11"
  }
 },
 "nbformat": 4,
 "nbformat_minor": 5
}
